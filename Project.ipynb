{
  "metadata": {
    "kernelspec": {
      "name": "python",
      "display_name": "Python (Pyodide)",
      "language": "python"
    },
    "language_info": {
      "codemirror_mode": {
        "name": "python",
        "version": 3
      },
      "file_extension": ".py",
      "mimetype": "text/x-python",
      "name": "python",
      "nbconvert_exporter": "python",
      "pygments_lexer": "ipython3",
      "version": "3.8"
    }
  },
  "nbformat_minor": 5,
  "nbformat": 4,
  "cells": [
    {
      "id": "e0276341-0cd6-480a-91a3-18efb2facb58",
      "cell_type": "code",
      "source": "import tkinter\nimport random",
      "metadata": {},
      "outputs": [],
      "execution_count": 1
    },
    {
      "id": "2df626ef-248e-492c-adb8-878ca159063e",
      "cell_type": "code",
      "source": "class Grid:\n    'A superclass of all grids in the map'\n    def __init__(self, No, type=None):\n        self.No = No # The number of the grid.\n        self.type = type \n\nclass BossGrid(Grid):\n    'A subclass of gird contained boss'\n    def __init__(self, No):\n        super().__init__(No, 'boss')\n        self.power = int(No * random.uniform(1, 3)) # make sure boss has a random but suitable power\n\nclass GameGrid(Grid):\n    'A subclass of gird contained game'\n    def __init__(self, No):\n        super().__init__(No, 'game')\n        self.game = random.choice(['game1','game2','game3']) # randomly choose a game\n\nclass PointGrid(Grid):\n    'A subclass of gird where player can collect points'\n    def __init__(self, No):\n        super().__init__(No, 'point')\n        self.point = random.randint(1,5) # randomly generate a point.",
      "metadata": {},
      "outputs": [],
      "execution_count": 2
    },
    {
      "id": "f70fa8ea-1eef-44fc-910b-e16a00e7b882",
      "cell_type": "code",
      "source": "def generate_grid(No):\n    'return a grid through the given number'\n    if No == 0: # First grid\n        return Grid(No, 'start')\n    elif No == 48: # Last grid\n        return Grid(No, 'end')\n\n    r = random.randint(1, 10) # generate a number to choose grid according to fixed probabilities\n    if r <= 5:\n        return PointGrid(No) # Probability 50%\n    elif r <= 9:\n        return GameGrid(No) # Probability 40%\n    else:\n        return BossGrid(No) # Probability 10%",
      "metadata": {},
      "outputs": [],
      "execution_count": 3
    },
    {
      "id": "61da7679-c0e7-4302-be9e-bd1c369dcbaa",
      "cell_type": "code",
      "source": "grids=[] # use a list to storage grids\nfor i in range(0,49):\n    grids.append(generate_grid(i))",
      "metadata": {},
      "outputs": [],
      "execution_count": 4
    },
    {
      "id": "febf271f-455a-4a17-aac7-96bbf6206ffb",
      "cell_type": "code",
      "source": "def create_grid(canvas, grid, x, y):\n    'draw a grid in canvas'\n    canvas.create_text(x+90, y+10, text=str(grid.No))\n    canvas.create_rectangle(x, y, x+100, y+100)\n    if grid.type == 'point':\n        canvas.create_text(x+50, y+50, fill = 'blue', text='Point\\n'+str(grid.point))\n    elif grid.type == 'game':\n        canvas.create_text(x+50, y+50, fill = 'orange', text=grid.game)\n    elif grid.type == 'boss':\n        canvas.create_text(x+50, y+50, fill = 'red', text='Boss\\n'+str(grid.power))\n    elif grid.type == 'start':\n        canvas.create_text(x+50, y+50, text='Start')\n    elif grid.type == 'end':\n        canvas.create_text(x+50, y+50, text='End')",
      "metadata": {},
      "outputs": [],
      "execution_count": 34
    },
    {
      "id": "1514eee4-d3da-404b-a66f-ddc4be636452",
      "cell_type": "code",
      "source": "map = tkinter.Tk()\ncanvas = tkinter.Canvas(map, width=720, height=720)\nfor grid in grids:\n    x = grid.No % 7 * 100 + 10 # Remainder = Column number\n    y = grid.No // 7 * 100 + 10 # Quotient = Row number\n    create_grid(canvas, grid, x, y)\ncanvas.pack()\nmap.mainloop()",
      "metadata": {},
      "outputs": [],
      "execution_count": 35
    }
  ]
}
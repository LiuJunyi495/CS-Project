{
 "cells": [
  {
   "cell_type": "code",
   "execution_count": 1,
   "id": "e0276341-0cd6-480a-91a3-18efb2facb58",
   "metadata": {},
   "outputs": [],
   "source": [
    "import tkinter\n",
    "import random"
   ]
  },
  {
   "cell_type": "code",
   "execution_count": 2,
   "id": "2df626ef-248e-492c-adb8-878ca159063e",
   "metadata": {},
   "outputs": [],
   "source": [
    "class Grid:\n",
    "    def __init__(self, No, type=None):\n",
    "        self.No = No\n",
    "        self.type = type\n",
    "\n",
    "class BossGrid(Grid):\n",
    "    def __init__(self, No):\n",
    "        super().__init__(No, 'Boss')\n",
    "        self.power = int(No * random.uniform(2.4, 3.6)) # make sure boss has a suitable power\n",
    "\n",
    "class GameGrid(Grid):\n",
    "    def __init__(self, No):\n",
    "        super().__init__(No, 'Game')\n",
    "        self.game = random.choice(['Game1','Game2','Game3'])\n",
    "\n",
    "class PointGrid(Grid):\n",
    "    def __init__(self, No):\n",
    "        super().__init__(No, 'Point')\n",
    "        self.point = random.randint(1,5)"
   ]
  },
  {
   "cell_type": "code",
   "execution_count": 3,
   "id": "f70fa8ea-1eef-44fc-910b-e16a00e7b882",
   "metadata": {},
   "outputs": [],
   "source": [
    "def generate_grid(No):\n",
    "    if No == 0:\n",
    "        return Grid(No, 'Start')\n",
    "    elif No == 48:\n",
    "        return Grid(No, 'End')\n",
    "    r = random.randint(1, 10)\n",
    "    if r <= 5:\n",
    "        return PointGrid(No)\n",
    "    elif r <= 9:\n",
    "        return GameGrid(No)\n",
    "    else:\n",
    "        return BossGrid(No)"
   ]
  },
  {
   "cell_type": "code",
   "execution_count": 4,
   "id": "61da7679-c0e7-4302-be9e-bd1c369dcbaa",
   "metadata": {},
   "outputs": [],
   "source": [
    "grids=[]\n",
    "for i in range(0,49):\n",
    "    grids.append(generate_grid(i))"
   ]
  },
  {
   "cell_type": "code",
   "execution_count": 34,
   "id": "febf271f-455a-4a17-aac7-96bbf6206ffb",
   "metadata": {},
   "outputs": [],
   "source": [
    "def create_grid(canvas, grid, x, y):\n",
    "    canvas.create_text(x+90, y+10, text=str(grid.No))\n",
    "    canvas.create_rectangle(x, y, x+100, y+100)\n",
    "    if grid.type == 'Point':\n",
    "        canvas.create_text(x+50, y+50, fill = 'blue', text='Point\\n'+str(grid.point))\n",
    "    elif grid.type == 'Game':\n",
    "        canvas.create_text(x+50, y+50, fill = 'orange', text=grid.game)\n",
    "    elif grid.type == 'Boss':\n",
    "        canvas.create_text(x+50, y+50, fill = 'red', text='Boss\\n'+str(grid.power))\n",
    "    elif grid.type == 'Start':\n",
    "        canvas.create_text(x+50, y+50, text='Start')\n",
    "    elif grid.type == 'End':\n",
    "        canvas.create_text(x+50, y+50, text='End')"
   ]
  },
  {
   "cell_type": "code",
   "execution_count": 35,
   "id": "1514eee4-d3da-404b-a66f-ddc4be636452",
   "metadata": {},
   "outputs": [],
   "source": [
    "map = tkinter.Tk()\n",
    "canvas = tkinter.Canvas(map, width=720, height=720)\n",
    "for grid in grids:\n",
    "    x = grid.No % 7 * 100 + 10\n",
    "    y = grid.No // 7 * 100 + 10\n",
    "    create_grid(canvas, grid, x, y)\n",
    "canvas.pack()\n",
    "map.mainloop()"
   ]
  }
 ],
 "metadata": {
  "kernelspec": {
   "display_name": "Python 3 (ipykernel)",
   "language": "python",
   "name": "python3"
  },
  "language_info": {
   "codemirror_mode": {
    "name": "ipython",
    "version": 3
   },
   "file_extension": ".py",
   "mimetype": "text/x-python",
   "name": "python",
   "nbconvert_exporter": "python",
   "pygments_lexer": "ipython3",
   "version": "3.11.8"
  }
 },
 "nbformat": 4,
 "nbformat_minor": 5
}
